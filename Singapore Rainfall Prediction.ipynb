{
 "cells": [
  {
   "cell_type": "markdown",
   "metadata": {},
   "source": [
    "# Singapore 6-Hourly Rainfall Forecast"
   ]
  },
  {
   "cell_type": "markdown",
   "metadata": {},
   "source": [
    "### Note that for simplicity, some code is not run in this notebook. Particularly, scraping and evaluation is conducted outside.\n"
   ]
  },
  {
   "cell_type": "markdown",
   "metadata": {},
   "source": [
    "## 1. Introduction\n",
    "\n",
    "In this exercise, I build a model to predict total rainfall in 6-hour blocks. Weather variables observed at the start of each 6-hour period (including wind speed, air temperature, humidity etc.) are used. To do this, data is retrieved from the APIs available at data.gov.sg. Using this data, I create a stacked regression model to attempt this forecast.\n",
    "\n",
    "Our response variable in this case is the rainfall variable which has 54 sensors islandwide. For other variables however, there are lesser sensors. For each rainfall station, the nearest sensor of each type is found and the reading in that station is used for prediction."
   ]
  },
  {
   "cell_type": "code",
   "execution_count": 28,
   "metadata": {},
   "outputs": [],
   "source": [
    "import pickle\n",
    "import requests\n",
    "import pandas as pd\n",
    "import datetime\n",
    "import numpy as np\n",
    "from sklearn.neighbors import KNeighborsRegressor\n",
    "from sklearn.ensemble import RandomForestRegressor, ExtraTreesRegressor\n",
    "import lightgbm as lgb\n",
    "from sklearn.linear_model import Lasso\n",
    "from sklearn import preprocessing\n",
    "from sklearn.cross_validation import train_test_split\n",
    "from sklearn import metrics\n",
    "from sklearn.model_selection import GridSearchCV\n",
    "from IPython.display import Image\n",
    "import matplotlib.pyplot as plt\n",
    "import seaborn as sns\n",
    "from scipy.spatial.distance import euclidean\n",
    "%matplotlib inline  "
   ]
  },
  {
   "cell_type": "markdown",
   "metadata": {},
   "source": [
    "## 2.1 Data Collection\n",
    "Each entry contains all sensor data for each point in time. Note that for some variables, there are lesser stations island wide. We need to define functions that allow us to find the nearest stations at each point."
   ]
  },
  {
   "cell_type": "code",
   "execution_count": 2,
   "metadata": {},
   "outputs": [],
   "source": [
    "def nearestStation(loc, locList):\n",
    "    if len(locList) == 0:\n",
    "        return 'NoStation'\n",
    "    l = sorted([(entry[0], euclidean(loc,(entry[1],entry[2]))) for entry in locList], key = lambda d: d[1])\n",
    "    return l[0][0]\n",
    "\n",
    "def findNearestStation(x):\n",
    "    windspeed_locs = [(entry['id'],\n",
    "                       entry['location']['latitude'],\n",
    "                      entry['location']['longitude']) for entry in x['wind-speed']['metadata']['stations']] \n",
    "        \n",
    "    airtemp_locs = [(entry['id'],\n",
    "                       entry['location']['latitude'],\n",
    "                      entry['location']['longitude']) for entry in x['air-temperature']['metadata']['stations']]\n",
    "        \n",
    "    rainfall_locs = [(entry['id'],\n",
    "                       entry['location']['latitude'],\n",
    "                      entry['location']['longitude']) for entry in x['rainfall']['metadata']['stations']]    \n",
    "        \n",
    "    winddir_locs = [(entry['id'],\n",
    "                       entry['location']['latitude'],\n",
    "                      entry['location']['longitude']) for entry in x['wind-direction']['metadata']['stations']]     \n",
    "        \n",
    "    humidity_locs = [(entry['id'],\n",
    "                       entry['location']['latitude'],\n",
    "                      entry['location']['longitude']) for entry in x['relative-humidity']['metadata']['stations']]     \n",
    "        \n",
    "    pm25_locs = [(entry['name'], entry['label_location']['latitude'], entry['label_location']['longitude'])for entry in x['pm25']['region_metadata']]\n",
    "    \n",
    "    locations = [windspeed_locs, airtemp_locs, rainfall_locs, winddir_locs, humidity_locs, pm25_locs]\n",
    "    nearest = {station[0]: [nearestStation(station[1:3], locList) for locList in locations] for station in rainfall_locs}\n",
    "    \n",
    "    return nearest"
   ]
  },
  {
   "cell_type": "markdown",
   "metadata": {},
   "source": [
    "We begin by defining a few functions that will help us access the API. The first function pulls from the data.gov.sg API.\n",
    "\n",
    "The second function converts a list of JSON files called from calldata into a pandas DataFrame."
   ]
  },
  {
   "cell_type": "code",
   "execution_count": 3,
   "metadata": {},
   "outputs": [],
   "source": [
    "def calldata(date_time, api_key, resource_list):\n",
    "    params = {'date_time': date_time}\n",
    "    headers = {\n",
    "                'api-key': api_key,\n",
    "                'accept' : 'application/json'\n",
    "               }\n",
    "    x = {url.split('/')[-1]: requests.get(url, headers = headers, params = params).json() for url in resource_list}\n",
    "    return x\n",
    "\n",
    "def toDataFrame(x):\n",
    "    d, t = x['rainfall']['items'][0]['timestamp'] .split('T')\n",
    "    print(d,t)\n",
    "    values = {}\n",
    "    values['rainfall'] =  {item['station_id']: item['value'] for item in x['rainfall']['items'][0]['readings']}    \n",
    "    values['windspeed'] = {item['station_id']: item['value'] for item in x['wind-speed']['items'][0]['readings']}\n",
    "    values['airtemp'] =  {item['station_id']: item['value'] for item in x['air-temperature']['items'][0]['readings']}\n",
    "    try:\n",
    "        values['pm25'] = x['pm25']['items'][0]['readings']['pm25_one_hourly'] #central east north south west, dict\n",
    "    except:\n",
    "        values['pm25'] = {'NoStation': np.nan}\n",
    "    \n",
    "    values['humidity'] = {item['station_id']: item['value'] for item in x['relative-humidity']['items'][0]['readings']}\n",
    "    values['winddir'] =  {item['station_id']: item['value'] for item in x['wind-direction']['items'][0]['readings']}\n",
    "    \n",
    "    try:\n",
    "        psi = x['psi']['items'][0]['readings']\n",
    "        psi_cols = list(psi.keys())\n",
    "        values = {**values, **psi} #Many types of readings, loop into key/value pairs, central east north south west national\n",
    "        nearest = findNearestStation(x)\n",
    "        attr = pd.DataFrame.from_dict(nearest, orient='index')\n",
    "        attr.columns = ['windspeed', 'airtemp', 'rainfall', 'winddir', 'humidity', 'pm25']\n",
    "    \n",
    "        for col in psi_cols:\n",
    "            attr[col] = attr['pm25']\n",
    "    except:\n",
    "        print('No psi readings')\n",
    "        nearest = findNearestStation(x)\n",
    "        attr = pd.DataFrame.from_dict(nearest, orient='index')\n",
    "        attr.columns = ['windspeed', 'airtemp', 'rainfall', 'winddir', 'humidity', 'pm25']\n",
    "\n",
    "        \n",
    "    for v in values:\n",
    "        attr[v] = [values[v][i] for i in attr[v]]\n",
    "    attr['datestamp'] = d + '/' + str(np.floor(int(t.split(':')[0])/6))     \n",
    "    return attr"
   ]
  },
  {
   "cell_type": "markdown",
   "metadata": {},
   "source": [
    "### 2.1.1 Create a wrapper to pull data from all dates required"
   ]
  },
  {
   "cell_type": "code",
   "execution_count": 4,
   "metadata": {},
   "outputs": [],
   "source": [
    "def scraper(datestart, dateend, api_key, resourcelist, by = {'day': 1}):\n",
    "    datelabels = []\n",
    "    response = []\n",
    "    Datestart = datetime.datetime.strptime(datestart, '%Y-%m-%d')\n",
    "    Dateend = datetime.datetime.strptime(dateend, '%Y-%m-%d')\n",
    "    while Datestart < Dateend:\n",
    "        print(Datestart)\n",
    "        datelabels.append(Datestart)\n",
    "        r = calldata(Datestart.isoformat(), api_key, resourcelist)\n",
    "        response.append(r)\n",
    "        Datestart += datetime.timedelta(**by)\n",
    "    \n",
    "    return response"
   ]
  },
  {
   "cell_type": "markdown",
   "metadata": {},
   "source": [
    "### 2.1.2 Begin scraping data"
   ]
  },
  {
   "cell_type": "code",
   "execution_count": null,
   "metadata": {},
   "outputs": [],
   "source": [
    "resourcelist = ['https://api.data.gov.sg/v1/environment/wind-speed',\n",
    "               'https://api.data.gov.sg/v1/environment/air-temperature',\n",
    "               'https://api.data.gov.sg/v1/environment/pm25',\n",
    "               'https://api.data.gov.sg/v1/environment/psi',\n",
    "               'https://api.data.gov.sg/v1/environment/rainfall',\n",
    "               'https://api.data.gov.sg/v1/environment/relative-humidity',\n",
    "               'https://api.data.gov.sg/v1/environment/wind-direction'\n",
    "               ]\n",
    "api_key = 'API Key Here'\n",
    "\n",
    "datestart = '2017-01-01'\n",
    "dateend = '2017-09-15'\n",
    "response = scraper(datestart, dateend, api_key, resourcelist)"
   ]
  },
  {
   "cell_type": "code",
   "execution_count": 5,
   "metadata": {},
   "outputs": [
    {
     "name": "stdout",
     "output_type": "stream",
     "text": [
      "{'wind-direction': {'api_info': {'status': 'healthy'}, 'items': [{'timestamp': '2016-12-31T23:59:59+08:00', 'readings': [{'value': 22, 'station_id': 'S109'}, {'value': 343, 'station_id': 'S117'}, {'value': 338, 'station_id': 'S50'}, {'value': 36, 'station_id': 'S43'}, {'value': 357, 'station_id': 'S108'}, {'value': 14, 'station_id': 'S44'}, {'value': 345, 'station_id': 'S121'}, {'value': 21, 'station_id': 'S106'}, {'value': 10, 'station_id': 'S06'}, {'value': 346, 'station_id': 'S102'}, {'value': 296, 'station_id': 'S122'}, {'value': 349, 'station_id': 'S96'}, {'value': 10, 'station_id': 'S115'}, {'value': 338, 'station_id': 'S24B'}, {'value': 346, 'station_id': 'S24'}, {'value': 44, 'station_id': 'S116'}, {'value': 8, 'station_id': 'S104'}, {'value': 55, 'station_id': 'S100'}]}], 'metadata': {'stations': [{'id': 'S109', 'device_id': 'S109', 'name': 'Ang Mo Kio Avenue 5', 'location': {'latitude': 1.3764, 'longitude': 103.8492}}, {'id': 'S117', 'device_id': 'S117', 'name': 'Banyan Road', 'location': {'latitude': 1.256, 'longitude': 103.679}}, {'id': 'S50', 'device_id': 'S50', 'name': 'Clementi Road', 'location': {'latitude': 1.3337, 'longitude': 103.7768}}, {'id': 'S43', 'device_id': 'S43', 'name': 'Kim Chuan Road', 'location': {'latitude': 1.3399, 'longitude': 103.8878}}, {'id': 'S108', 'device_id': 'S108', 'name': 'Marina Gardens Drive', 'location': {'latitude': 1.2799, 'longitude': 103.8703}}, {'id': 'S44', 'device_id': 'S44', 'name': 'Nanyang Avenue', 'location': {'latitude': 1.34583, 'longitude': 103.68166}}, {'id': 'S121', 'device_id': 'S121', 'name': 'Old Choa Chu Kang Road', 'location': {'latitude': 1.37288, 'longitude': 103.72244}}, {'id': 'S106', 'device_id': 'S106', 'name': 'Pulau Ubin', 'location': {'latitude': 1.4168, 'longitude': 103.9673}}, {'id': 'S06', 'device_id': 'S06', 'name': 'S06', 'location': {'latitude': 1.3524, 'longitude': 103.9007}}, {'id': 'S102', 'device_id': 'S102', 'name': 'Semakau Landfill', 'location': {'latitude': 1.189, 'longitude': 103.768}}, {'id': 'S122', 'device_id': 'S122', 'name': 'Sembawang Road', 'location': {'latitude': 1.41731, 'longitude': 103.8249}}, {'id': 'S96', 'device_id': 'S96', 'name': 'Tanah Merah Coast Road', 'location': {'latitude': 1.3175, 'longitude': 104.0307}}, {'id': 'S115', 'device_id': 'S115', 'name': 'Tuas South Avenue 3', 'location': {'latitude': 1.29377, 'longitude': 103.61843}}, {'id': 'S24B', 'device_id': 'S24B', 'name': 'Upper Changi Road North', 'location': {'latitude': 1.3678, 'longitude': 103.998}}, {'id': 'S24', 'device_id': 'S24', 'name': 'Upper Changi Road North', 'location': {'latitude': 1.3678, 'longitude': 103.9826}}, {'id': 'S116', 'device_id': 'S116', 'name': 'West Coast Highway', 'location': {'latitude': 1.281, 'longitude': 103.754}}, {'id': 'S104', 'device_id': 'S104', 'name': 'Woodlands Avenue 9', 'location': {'latitude': 1.44387, 'longitude': 103.78538}}, {'id': 'S100', 'device_id': 'S100', 'name': 'Woodlands Road', 'location': {'latitude': 1.4172, 'longitude': 103.74855}}], 'reading_type': 'Wind Dir AVG (S) 10M M1M', 'reading_unit': 'degrees'}}, 'air-temperature': {'api_info': {'status': 'healthy'}, 'items': [{'timestamp': '2016-12-31T23:59:59+08:00', 'readings': [{'value': 26.1, 'station_id': 'S109'}, {'value': 26.9, 'station_id': 'S117'}, {'value': 27.1, 'station_id': 'S107'}, {'value': 26.9, 'station_id': 'S43'}, {'value': 27, 'station_id': 'S108'}, {'value': 25.5, 'station_id': 'S44'}, {'value': 26, 'station_id': 'S121'}, {'value': 25, 'station_id': 'S106'}, {'value': 26.2, 'station_id': 'S06'}, {'value': 27.2, 'station_id': 'S102'}, {'value': 25.4, 'station_id': 'S122'}, {'value': 26.6, 'station_id': 'S96'}, {'value': 26.8, 'station_id': 'S115'}, {'value': 26.4, 'station_id': 'S24B'}, {'value': 25.9, 'station_id': 'S24'}, {'value': 27, 'station_id': 'S116'}, {'value': 25.9, 'station_id': 'S104'}, {'value': 26.3, 'station_id': 'S100'}]}], 'metadata': {'stations': [{'id': 'S109', 'device_id': 'S109', 'name': 'Ang Mo Kio Avenue 5', 'location': {'latitude': 1.3764, 'longitude': 103.8492}}, {'id': 'S117', 'device_id': 'S117', 'name': 'Banyan Road', 'location': {'latitude': 1.256, 'longitude': 103.679}}, {'id': 'S107', 'device_id': 'S107', 'name': 'East Coast Parkway', 'location': {'latitude': 1.3135, 'longitude': 103.9625}}, {'id': 'S43', 'device_id': 'S43', 'name': 'Kim Chuan Road', 'location': {'latitude': 1.3399, 'longitude': 103.8878}}, {'id': 'S108', 'device_id': 'S108', 'name': 'Marina Gardens Drive', 'location': {'latitude': 1.2799, 'longitude': 103.8703}}, {'id': 'S44', 'device_id': 'S44', 'name': 'Nanyang Avenue', 'location': {'latitude': 1.34583, 'longitude': 103.68166}}, {'id': 'S121', 'device_id': 'S121', 'name': 'Old Choa Chu Kang Road', 'location': {'latitude': 1.37288, 'longitude': 103.72244}}, {'id': 'S106', 'device_id': 'S106', 'name': 'Pulau Ubin', 'location': {'latitude': 1.4168, 'longitude': 103.9673}}, {'id': 'S06', 'device_id': 'S06', 'name': 'S06', 'location': {'latitude': 1.3524, 'longitude': 103.9007}}, {'id': 'S102', 'device_id': 'S102', 'name': 'Semakau Landfill', 'location': {'latitude': 1.189, 'longitude': 103.768}}, {'id': 'S122', 'device_id': 'S122', 'name': 'Sembawang Road', 'location': {'latitude': 1.41731, 'longitude': 103.8249}}, {'id': 'S96', 'device_id': 'S96', 'name': 'Tanah Merah Coast Road', 'location': {'latitude': 1.3175, 'longitude': 104.0307}}, {'id': 'S115', 'device_id': 'S115', 'name': 'Tuas South Avenue 3', 'location': {'latitude': 1.29377, 'longitude': 103.61843}}, {'id': 'S24B', 'device_id': 'S24B', 'name': 'Upper Changi Road North', 'location': {'latitude': 1.3678, 'longitude': 103.998}}, {'id': 'S24', 'device_id': 'S24', 'name': 'Upper Changi Road North', 'location': {'latitude': 1.3678, 'longitude': 103.9826}}, {'id': 'S116', 'device_id': 'S116', 'name': 'West Coast Highway', 'location': {'latitude': 1.281, 'longitude': 103.754}}, {'id': 'S104', 'device_id': 'S104', 'name': 'Woodlands Avenue 9', 'location': {'latitude': 1.44387, 'longitude': 103.78538}}, {'id': 'S100', 'device_id': 'S100', 'name': 'Woodlands Road', 'location': {'latitude': 1.4172, 'longitude': 103.74855}}], 'reading_type': 'DBT 1M F', 'reading_unit': 'deg C'}}, 'rainfall': {'api_info': {'status': 'healthy'}, 'items': [{'timestamp': '2016-12-31T23:59:59+08:00', 'readings': [{'value': 0, 'station_id': 'S77'}, {'value': 0, 'station_id': 'S109'}, {'value': 0, 'station_id': 'S117'}, {'value': 0, 'station_id': 'S55'}, {'value': 0, 'station_id': 'S64'}, {'value': 0, 'station_id': 'S90'}, {'value': 0, 'station_id': 'S61'}, {'value': 0, 'station_id': 'S114'}, {'value': 0, 'station_id': 'S11'}, {'value': 0, 'station_id': 'S50'}, {'value': 0, 'station_id': 'S101'}, {'value': 0, 'station_id': 'S107'}, {'value': 0, 'station_id': 'S118'}, {'value': 0, 'station_id': 'S120'}, {'value': 0, 'station_id': 'S63'}, {'value': 0, 'station_id': 'S33'}, {'value': 0, 'station_id': 'S71'}, {'value': 0, 'station_id': 'S43'}, {'value': 0, 'station_id': 'S66'}, {'value': 0, 'station_id': 'S112'}, {'value': 0, 'station_id': 'S07'}, {'value': 0, 'station_id': 'S40'}, {'value': 0, 'station_id': 'S108'}, {'value': 0, 'station_id': 'S113'}, {'value': 0, 'station_id': 'S44'}, {'value': 0, 'station_id': 'S119'}, {'value': 0, 'station_id': 'S121'}, {'value': 0, 'station_id': 'S35'}, {'value': 0, 'station_id': 'S29'}, {'value': 0, 'station_id': 'S94'}, {'value': 0, 'station_id': 'S78'}, {'value': 0, 'station_id': 'S106'}, {'value': 0, 'station_id': 'S81'}, {'value': 0, 'station_id': 'S06'}, {'value': 0, 'station_id': 'S900'}, {'value': 0, 'station_id': 'S102'}, {'value': 0, 'station_id': 'S122'}, {'value': 0, 'station_id': 'S110'}, {'value': 0, 'station_id': 'S46'}, {'value': 0, 'station_id': 'S84'}, {'value': 0, 'station_id': 'S79'}, {'value': 0, 'station_id': 'S92'}, {'value': 0, 'station_id': 'S96'}, {'value': 0, 'station_id': 'S88'}, {'value': 0, 'station_id': 'S123'}, {'value': 0, 'station_id': 'S89'}, {'value': 0, 'station_id': 'S115'}, {'value': 0, 'station_id': 'S24B'}, {'value': 0, 'station_id': 'S24'}, {'value': 0, 'station_id': 'S69'}, {'value': 0, 'station_id': 'S36'}, {'value': 0, 'station_id': 'S08'}, {'value': 0, 'station_id': 'S116'}, {'value': 0, 'station_id': 'S104'}, {'value': 0, 'station_id': 'S100'}, {'value': 0, 'station_id': 'S91'}]}], 'metadata': {'stations': [{'id': 'S77', 'device_id': 'S77', 'name': 'Alexandra Road', 'location': {'latitude': 1.2937, 'longitude': 103.8125}}, {'id': 'S109', 'device_id': 'S109', 'name': 'Ang Mo Kio Avenue 5', 'location': {'latitude': 1.3764, 'longitude': 103.8492}}, {'id': 'S117', 'device_id': 'S117', 'name': 'Banyan Road', 'location': {'latitude': 1.256, 'longitude': 103.679}}, {'id': 'S55', 'device_id': 'S55', 'name': 'Buangkok Green', 'location': {'latitude': 1.3837, 'longitude': 103.886}}, {'id': 'S64', 'device_id': 'S64', 'name': 'Bukit Panjang Road', 'location': {'latitude': 1.3824, 'longitude': 103.7603}}, {'id': 'S90', 'device_id': 'S90', 'name': 'Bukit Timah Road', 'location': {'latitude': 1.3191, 'longitude': 103.8191}}, {'id': 'S61', 'device_id': 'S61', 'name': 'Chai Chee Street', 'location': {'latitude': 1.323, 'longitude': 103.9217}}, {'id': 'S114', 'device_id': 'S114', 'name': 'Choa Chu Kang Avenue 4', 'location': {'latitude': 1.38, 'longitude': 103.73}}, {'id': 'S11', 'device_id': 'S11', 'name': 'Choa Chu Kang Road', 'location': {'latitude': 1.3746, 'longitude': 103.6938}}, {'id': 'S50', 'device_id': 'S50', 'name': 'Clementi Road', 'location': {'latitude': 1.3337, 'longitude': 103.7768}}, {'id': 'S101', 'device_id': 'S101', 'name': 'Corporation Road', 'location': {'latitude': 1.35053, 'longitude': 103.7134}}, {'id': 'S107', 'device_id': 'S107', 'name': 'East Coast Parkway', 'location': {'latitude': 1.3135, 'longitude': 103.9625}}, {'id': 'S118', 'device_id': 'S118', 'name': 'Handy Road', 'location': {'latitude': 1.2994, 'longitude': 103.8461}}, {'id': 'S120', 'device_id': 'S120', 'name': 'Holland Road', 'location': {'latitude': 1.30874, 'longitude': 103.818}}, {'id': 'S63', 'device_id': 'S63', 'name': 'International Road', 'location': {'latitude': 1.3275, 'longitude': 103.7042}}, {'id': 'S33', 'device_id': 'S33', 'name': 'Jurong Pier Road', 'location': {'latitude': 1.3081, 'longitude': 103.71}}, {'id': 'S71', 'device_id': 'S71', 'name': 'Kent Ridge Road', 'location': {'latitude': 1.2923, 'longitude': 103.7815}}, {'id': 'S43', 'device_id': 'S43', 'name': 'Kim Chuan Road', 'location': {'latitude': 1.3399, 'longitude': 103.8878}}, {'id': 'S66', 'device_id': 'S66', 'name': 'Kranji Way', 'location': {'latitude': 1.4387, 'longitude': 103.7363}}, {'id': 'S112', 'device_id': 'S112', 'name': 'Lim Chu Kang Road', 'location': {'latitude': 1.43854, 'longitude': 103.70131}}, {'id': 'S07', 'device_id': 'S07', 'name': 'Lornie Road', 'location': {'latitude': 1.3415, 'longitude': 103.8334}}, {'id': 'S40', 'device_id': 'S40', 'name': 'Mandai Lake Road', 'location': {'latitude': 1.4044, 'longitude': 103.78962}}, {'id': 'S108', 'device_id': 'S108', 'name': 'Marina Gardens Drive', 'location': {'latitude': 1.2799, 'longitude': 103.8703}}, {'id': 'S113', 'device_id': 'S113', 'name': 'Marine Parade Road', 'location': {'latitude': 1.30655, 'longitude': 103.91074}}, {'id': 'S44', 'device_id': 'S44', 'name': 'Nanyang Avenue', 'location': {'latitude': 1.34583, 'longitude': 103.68166}}, {'id': 'S119', 'device_id': 'S119', 'name': 'Nicoll Highway', 'location': {'latitude': 1.30105, 'longitude': 103.8666}}, {'id': 'S121', 'device_id': 'S121', 'name': 'Old Choa Chu Kang Road', 'location': {'latitude': 1.37288, 'longitude': 103.72244}}, {'id': 'S35', 'device_id': 'S35', 'name': 'Old Toh Tuck Road', 'location': {'latitude': 1.3329, 'longitude': 103.7556}}, {'id': 'S29', 'device_id': 'S29', 'name': 'Pasir Ris Drive 12', 'location': {'latitude': 1.387, 'longitude': 103.935}}, {'id': 'S94', 'device_id': 'S94', 'name': 'Pasir Ris Street 51', 'location': {'latitude': 1.3662, 'longitude': 103.9528}}, {'id': 'S78', 'device_id': 'S78', 'name': 'Poole Road', 'location': {'latitude': 1.30703, 'longitude': 103.89067}}, {'id': 'S106', 'device_id': 'S106', 'name': 'Pulau Ubin', 'location': {'latitude': 1.4168, 'longitude': 103.9673}}, {'id': 'S81', 'device_id': 'S81', 'name': 'Punggol Central', 'location': {'latitude': 1.4029, 'longitude': 103.9092}}, {'id': 'S06', 'device_id': 'S06', 'name': 'S06', 'location': {'latitude': 1.3524, 'longitude': 103.9007}}, {'id': 'S900', 'device_id': 'S900', 'name': 'Seletar Aerospace View', 'location': {'latitude': 1.41284, 'longitude': 103.86922}}, {'id': 'S102', 'device_id': 'S102', 'name': 'Semakau Landfill', 'location': {'latitude': 1.189, 'longitude': 103.768}}, {'id': 'S122', 'device_id': 'S122', 'name': 'Sembawang Road', 'location': {'latitude': 1.41731, 'longitude': 103.8249}}, {'id': 'S110', 'device_id': 'S110', 'name': 'Serangoon North Avenue 4', 'location': {'latitude': 1.36061, 'longitude': 103.8697}}, {'id': 'S46', 'device_id': 'S46', 'name': 'Sime Road', 'location': {'latitude': 1.3416, 'longitude': 103.8106}}, {'id': 'S84', 'device_id': 'S84', 'name': 'Simei Avenue', 'location': {'latitude': 1.3437, 'longitude': 103.9444}}, {'id': 'S79', 'device_id': 'S79', 'name': 'Somerset Road', 'location': {'latitude': 1.3004, 'longitude': 103.8372}}, {'id': 'S92', 'device_id': 'S92', 'name': 'South Buona Vista Road', 'location': {'latitude': 1.2841, 'longitude': 103.7886}}, {'id': 'S96', 'device_id': 'S96', 'name': 'Tanah Merah Coast Road', 'location': {'latitude': 1.3175, 'longitude': 104.0307}}, {'id': 'S88', 'device_id': 'S88', 'name': 'Toa Payoh North', 'location': {'latitude': 1.3427, 'longitude': 103.8482}}, {'id': 'S123', 'device_id': 'S123', 'name': 'Towner Road', 'location': {'latitude': 1.3214, 'longitude': 103.8577}}, {'id': 'S89', 'device_id': 'S89', 'name': 'Tuas Road', 'location': {'latitude': 1.31985, 'longitude': 103.66162}}, {'id': 'S115', 'device_id': 'S115', 'name': 'Tuas South Avenue 3', 'location': {'latitude': 1.29377, 'longitude': 103.61843}}, {'id': 'S24B', 'device_id': 'S24B', 'name': 'Upper Changi Road North', 'location': {'latitude': 1.3678, 'longitude': 103.998}}, {'id': 'S24', 'device_id': 'S24', 'name': 'Upper Changi Road North', 'location': {'latitude': 1.3678, 'longitude': 103.9826}}, {'id': 'S69', 'device_id': 'S69', 'name': 'Upper Peirce Reservoir Park', 'location': {'latitude': 1.37, 'longitude': 103.805}}, {'id': 'S36', 'device_id': 'S36', 'name': 'Upper Serangoon Road', 'location': {'latitude': 1.3382, 'longitude': 103.8657}}, {'id': 'S08', 'device_id': 'S08', 'name': 'Upper Thomson Road', 'location': {'latitude': 1.3701, 'longitude': 103.8271}}, {'id': 'S116', 'device_id': 'S116', 'name': 'West Coast Highway', 'location': {'latitude': 1.281, 'longitude': 103.754}}, {'id': 'S104', 'device_id': 'S104', 'name': 'Woodlands Avenue 9', 'location': {'latitude': 1.44387, 'longitude': 103.78538}}, {'id': 'S100', 'device_id': 'S100', 'name': 'Woodlands Road', 'location': {'latitude': 1.4172, 'longitude': 103.74855}}, {'id': 'S91', 'device_id': 'S91', 'name': 'Yishun Avenue 5', 'location': {'latitude': 1.4301, 'longitude': 103.8308}}], 'reading_type': 'TB1 Rainfall 5 Minute Total F', 'reading_unit': 'mm'}}, 'relative-humidity': {'api_info': {'status': 'healthy'}, 'items': [{'timestamp': '2016-12-31T23:59:59+08:00', 'readings': [{'value': 90.5, 'station_id': 'S109'}, {'value': 82, 'station_id': 'S117'}, {'value': 89.8, 'station_id': 'S107'}, {'value': 88.1, 'station_id': 'S43'}, {'value': 87.1, 'station_id': 'S108'}, {'value': 82, 'station_id': 'S06'}, {'value': 86.6, 'station_id': 'S102'}, {'value': 87.1, 'station_id': 'S96'}, {'value': 84.4, 'station_id': 'S115'}, {'value': 92.9, 'station_id': 'S24'}, {'value': 91.6, 'station_id': 'S116'}, {'value': 85.5, 'station_id': 'S100'}]}], 'metadata': {'stations': [{'id': 'S109', 'device_id': 'S109', 'name': 'Ang Mo Kio Avenue 5', 'location': {'latitude': 1.3764, 'longitude': 103.8492}}, {'id': 'S117', 'device_id': 'S117', 'name': 'Banyan Road', 'location': {'latitude': 1.256, 'longitude': 103.679}}, {'id': 'S107', 'device_id': 'S107', 'name': 'East Coast Parkway', 'location': {'latitude': 1.3135, 'longitude': 103.9625}}, {'id': 'S43', 'device_id': 'S43', 'name': 'Kim Chuan Road', 'location': {'latitude': 1.3399, 'longitude': 103.8878}}, {'id': 'S108', 'device_id': 'S108', 'name': 'Marina Gardens Drive', 'location': {'latitude': 1.2799, 'longitude': 103.8703}}, {'id': 'S06', 'device_id': 'S06', 'name': 'S06', 'location': {'latitude': 1.3524, 'longitude': 103.9007}}, {'id': 'S102', 'device_id': 'S102', 'name': 'Semakau Landfill', 'location': {'latitude': 1.189, 'longitude': 103.768}}, {'id': 'S96', 'device_id': 'S96', 'name': 'Tanah Merah Coast Road', 'location': {'latitude': 1.3175, 'longitude': 104.0307}}, {'id': 'S115', 'device_id': 'S115', 'name': 'Tuas South Avenue 3', 'location': {'latitude': 1.29377, 'longitude': 103.61843}}, {'id': 'S24', 'device_id': 'S24', 'name': 'Upper Changi Road North', 'location': {'latitude': 1.3678, 'longitude': 103.9826}}, {'id': 'S116', 'device_id': 'S116', 'name': 'West Coast Highway', 'location': {'latitude': 1.281, 'longitude': 103.754}}, {'id': 'S100', 'device_id': 'S100', 'name': 'Woodlands Road', 'location': {'latitude': 1.4172, 'longitude': 103.74855}}], 'reading_type': 'RH 1M F', 'reading_unit': 'percentage'}}, 'wind-speed': {'api_info': {'status': 'healthy'}, 'items': [{'timestamp': '2016-12-31T23:59:59+08:00', 'readings': [{'value': 2, 'station_id': 'S109'}, {'value': 2.1, 'station_id': 'S117'}, {'value': 5.7, 'station_id': 'S50'}, {'value': 1.4, 'station_id': 'S107'}, {'value': 2.2, 'station_id': 'S43'}, {'value': 11.8, 'station_id': 'S108'}, {'value': 3.4, 'station_id': 'S44'}, {'value': 1.2, 'station_id': 'S121'}, {'value': 2.9, 'station_id': 'S106'}, {'value': 1.2, 'station_id': 'S06'}, {'value': 12, 'station_id': 'S102'}, {'value': 0.7, 'station_id': 'S122'}, {'value': 2.1, 'station_id': 'S96'}, {'value': 3.3, 'station_id': 'S115'}, {'value': 1.5, 'station_id': 'S24B'}, {'value': 1.8, 'station_id': 'S24'}, {'value': 4, 'station_id': 'S116'}, {'value': 3.5, 'station_id': 'S104'}, {'value': 1.3, 'station_id': 'S100'}]}], 'metadata': {'stations': [{'id': 'S109', 'device_id': 'S109', 'name': 'Ang Mo Kio Avenue 5', 'location': {'latitude': 1.3764, 'longitude': 103.8492}}, {'id': 'S117', 'device_id': 'S117', 'name': 'Banyan Road', 'location': {'latitude': 1.256, 'longitude': 103.679}}, {'id': 'S50', 'device_id': 'S50', 'name': 'Clementi Road', 'location': {'latitude': 1.3337, 'longitude': 103.7768}}, {'id': 'S107', 'device_id': 'S107', 'name': 'East Coast Parkway', 'location': {'latitude': 1.3135, 'longitude': 103.9625}}, {'id': 'S43', 'device_id': 'S43', 'name': 'Kim Chuan Road', 'location': {'latitude': 1.3399, 'longitude': 103.8878}}, {'id': 'S108', 'device_id': 'S108', 'name': 'Marina Gardens Drive', 'location': {'latitude': 1.2799, 'longitude': 103.8703}}, {'id': 'S44', 'device_id': 'S44', 'name': 'Nanyang Avenue', 'location': {'latitude': 1.34583, 'longitude': 103.68166}}, {'id': 'S121', 'device_id': 'S121', 'name': 'Old Choa Chu Kang Road', 'location': {'latitude': 1.37288, 'longitude': 103.72244}}, {'id': 'S106', 'device_id': 'S106', 'name': 'Pulau Ubin', 'location': {'latitude': 1.4168, 'longitude': 103.9673}}, {'id': 'S06', 'device_id': 'S06', 'name': 'S06', 'location': {'latitude': 1.3524, 'longitude': 103.9007}}, {'id': 'S102', 'device_id': 'S102', 'name': 'Semakau Landfill', 'location': {'latitude': 1.189, 'longitude': 103.768}}, {'id': 'S122', 'device_id': 'S122', 'name': 'Sembawang Road', 'location': {'latitude': 1.41731, 'longitude': 103.8249}}, {'id': 'S96', 'device_id': 'S96', 'name': 'Tanah Merah Coast Road', 'location': {'latitude': 1.3175, 'longitude': 104.0307}}, {'id': 'S115', 'device_id': 'S115', 'name': 'Tuas South Avenue 3', 'location': {'latitude': 1.29377, 'longitude': 103.61843}}, {'id': 'S24B', 'device_id': 'S24B', 'name': 'Upper Changi Road North', 'location': {'latitude': 1.3678, 'longitude': 103.998}}, {'id': 'S24', 'device_id': 'S24', 'name': 'Upper Changi Road North', 'location': {'latitude': 1.3678, 'longitude': 103.9826}}, {'id': 'S116', 'device_id': 'S116', 'name': 'West Coast Highway', 'location': {'latitude': 1.281, 'longitude': 103.754}}, {'id': 'S104', 'device_id': 'S104', 'name': 'Woodlands Avenue 9', 'location': {'latitude': 1.44387, 'longitude': 103.78538}}, {'id': 'S100', 'device_id': 'S100', 'name': 'Woodlands Road', 'location': {'latitude': 1.4172, 'longitude': 103.74855}}], 'reading_type': 'Wind Speed AVG(S)10M M1M', 'reading_unit': 'knots'}}, 'psi': {'api_info': {'status': 'healthy'}, 'items': [{'update_timestamp': '2017-01-01T00:06:19+08:00', 'timestamp': '2017-01-01T00:00:00+08:00', 'readings': {'co_eight_hour_max': {'north': 0.52, 'national': 0.78, 'south': 0.78, 'central': 0.78, 'east': 0.29, 'west': 0.36}, 'o3_eight_hour_max': {'north': 18, 'national': 34, 'south': 16, 'central': 13, 'east': 18, 'west': 34}, 'pm25_twenty_four_hourly': {'north': 9, 'national': 9, 'south': 8, 'central': 7, 'east': 9, 'west': 6}, 'psi_three_hourly': {'north': 52, 'national': 47, 'south': 51, 'central': 47, 'east': 52, 'west': 27}, 'no2_one_hour_max': {'north': 31, 'national': 35, 'south': 20, 'central': 35, 'east': 19, 'west': 12}, 'pm25_sub_index': {'north': 36, 'national': 39, 'south': 33, 'central': 29, 'east': 39, 'west': 26}, 'o3_sub_index': {'north': 8, 'national': 14, 'south': 7, 'central': 6, 'east': 8, 'west': 14}, 'co_sub_index': {'north': 5, 'national': 8, 'south': 8, 'central': 8, 'east': 3, 'west': 4}, 'pm10_twenty_four_hourly': {'north': 19, 'national': 19, 'south': 19, 'central': 13, 'east': 19, 'west': 15}, 'pm10_sub_index': {'north': 19, 'national': 19, 'south': 19, 'central': 13, 'east': 19, 'west': 15}, 'so2_sub_index': {'north': 2, 'national': 2, 'south': 2, 'central': 2, 'east': 2, 'west': 1}, 'so2_twenty_four_hourly': {'north': 3, 'national': 3, 'south': 3, 'central': 3, 'east': 3, 'west': 2}, 'psi_twenty_four_hourly': {'north': 36, 'national': 39, 'south': 33, 'central': 29, 'east': 39, 'west': 26}}}], 'region_metadata': [{'label_location': {'latitude': 0, 'longitude': 0}, 'name': 'national'}, {'label_location': {'latitude': 1.29587, 'longitude': 103.82}, 'name': 'south'}, {'label_location': {'latitude': 1.41803, 'longitude': 103.82}, 'name': 'north'}, {'label_location': {'latitude': 1.35735, 'longitude': 103.94}, 'name': 'east'}, {'label_location': {'latitude': 1.35735, 'longitude': 103.82}, 'name': 'central'}, {'label_location': {'latitude': 1.35735, 'longitude': 103.7}, 'name': 'west'}]}, 'pm25': {'api_info': {'status': 'healthy'}, 'items': [{'update_timestamp': '2017-01-01T00:06:19+08:00', 'timestamp': '2017-01-01T00:00:00+08:00', 'readings': {'pm25_one_hourly': {'north': 13, 'central': 12, 'west': 7, 'south': 10, 'east': 13}}}], 'region_metadata': [{'label_location': {'latitude': 1.29587, 'longitude': 103.82}, 'name': 'south'}, {'label_location': {'latitude': 1.41803, 'longitude': 103.82}, 'name': 'north'}, {'label_location': {'latitude': 1.35735, 'longitude': 103.94}, 'name': 'east'}, {'label_location': {'latitude': 1.35735, 'longitude': 103.82}, 'name': 'central'}, {'label_location': {'latitude': 1.35735, 'longitude': 103.7}, 'name': 'west'}]}}\n"
     ]
    }
   ],
   "source": [
    "response = pickle.load(open('response.p', 'rb'))\n",
    "print(response[0])"
   ]
  },
  {
   "cell_type": "markdown",
   "metadata": {},
   "source": [
    "The value for rainfall at each point in time is the rainfall in that hour. Since data is only scraped in 6-hour intervals, we need to collect more data for rainfall, in 1-hour intervals."
   ]
  },
  {
   "cell_type": "code",
   "execution_count": 6,
   "metadata": {},
   "outputs": [],
   "source": [
    "def rainDataFrame(x):\n",
    "    d, t = x['rainfall']['items'][0]['timestamp'] .split('T')\n",
    "    print(d)\n",
    "    values = {}\n",
    "    values['rainfall'] =  {item['station_id']: item['value'] for item in x['rainfall']['items'][0]['readings']}    \n",
    "    attr = pd.DataFrame(list(values['rainfall'].items()), columns = ['SID','rainfall'])\n",
    "    \n",
    "    attr['datestamp'] = d + '/' + str(np.floor(int(t.split(':')[0])/6))\n",
    "    return attr"
   ]
  },
  {
   "cell_type": "markdown",
   "metadata": {},
   "source": [
    "Now start collecting rainfall data. After collection, the data is summed into 6 hour intervals."
   ]
  },
  {
   "cell_type": "code",
   "execution_count": null,
   "metadata": {},
   "outputs": [],
   "source": [
    "dateend = '2017-01-15'\n",
    "rainfall =  scraper(datestart, dateend, api_key, resourcelist =['https://api.data.gov.sg/v1/environment/rainfall'], by = {'hours': 1})\n",
    "rain = pd.concat(rainfall)\n",
    "rain = rain.groupby(['SID','datestamp']).sum().groupby(['SID','datestamp']).sum()\n",
    "raining = [rain]\n",
    "\n",
    "for i in range(2,9): #Break up data collection to prevent errors\n",
    "    datestart = '2017-0{}-15'.format(i)\n",
    "    dateend = '2017-0{}-15'.format(i+1)\n",
    "    rainfall = scraper(datestart, dateend, api_key, resourcelist =['https://api.data.gov.sg/v1/environment/rainfall'], by = {'hours': 1})\n",
    "    rain = pd.concat([rainDataFrame(x) for x in rainfall])\n",
    "    rain = rain.groupby(['SID','datestamp']).sum().groupby(['SID','datestamp']).sum()\n",
    "    raining.append(rainfall)tamp'] = d + '/' + str(np.floor(int(t.split(':')[0])/6))"
   ]
  },
  {
   "cell_type": "markdown",
   "metadata": {},
   "source": [
    "### 2.2 Cleaning\n",
    "Both rain and other variables are combined into a single dataframe, joined on StationID and date/time."
   ]
  },
  {
   "cell_type": "code",
   "execution_count": null,
   "metadata": {},
   "outputs": [],
   "source": [
    "Rain = pd.concat(raining)\n",
    "\n",
    "d = [toDataFrame(x) for x in response]\n",
    "df = pd.concat(d)\n",
    "df.drop('rainfall', axis = 1, inplace=True)\n",
    "df['SID'] = df.index\n",
    "Rain['SID'] = Rain.index.droplevel(1)\n",
    "Rain['datestamp'] = Rain.index.droplevel(0)\n",
    "df = df.merge(Rain, on = ['SID','datestamp'])"
   ]
  },
  {
   "cell_type": "markdown",
   "metadata": {},
   "source": [
    "## 3. Training and Evaluation"
   ]
  },
  {
   "cell_type": "markdown",
   "metadata": {},
   "source": [
    "We begin by defining a function that will help to replace missing values. Next, we create a wrapper that helps with cross validation for fine tuning models"
   ]
  },
  {
   "cell_type": "code",
   "execution_count": 7,
   "metadata": {},
   "outputs": [],
   "source": [
    "def stripNA (vec, replace = 0, fun = np.nanmean, cts = False):\n",
    "    if cts:\n",
    "        r = fun(vec)\n",
    "    else:\n",
    "        r = replace \n",
    "    g = vec.apply(lambda x: r if np.isnan(x) else x)\n",
    "    return g\n",
    "\n",
    "def validator(estimator, param_grid, X, Y):\n",
    "    clf = GridSearchCV(estimator, param_grid)\n",
    "    clf.fit(X,Y)\n",
    "    print(clf.best_params_)\n",
    "    print(clf.best_score_)\n",
    "    return clf"
   ]
  },
  {
   "cell_type": "markdown",
   "metadata": {},
   "source": [
    "### 3.1 Architecture\n",
    "The model used in this attempt at prediction is a stacked model."
   ]
  },
  {
   "cell_type": "code",
   "execution_count": 8,
   "metadata": {},
   "outputs": [
    {
     "data": {
      "image/png": "[encoded data removed]",
      "text/plain": [
       "<IPython.core.display.Image object>"
      ]
     },
     "execution_count": 8,
     "metadata": {},
     "output_type": "execute_result"
    }
   ],
   "source": [
    "Image(\"architecture.png\")"
   ]
  },
  {
   "cell_type": "markdown",
   "metadata": {},
   "source": [
    "The bottom level contains a Random Forest model, Extra Trees model, Gradient Boosted Tree and a K-Nearest Neighbours model. The results of these models are fed into a LASSO regression that generates the final output.\n",
    "\n",
    "### 3.2 Trainer\n",
    "The following is the workhorse for the model, it is designed to be easy to interface with, requiring as little input as possible from a user's perspective. It includes methods that help with training various single-level model as well as training the overall 2-level model. Training cross-validation for fine-tuning as well as fitting each individual model.\n",
    "\n",
    "The class also aids generating predictions and evaluating performance of the model(s)."
   ]
  },
  {
   "cell_type": "code",
   "execution_count": 9,
   "metadata": {},
   "outputs": [],
   "source": [
    "class EnsembleTrainer:\n",
    "    def __init__(self, l1models, l2model, param_grids = None):\n",
    "        \n",
    "        self.l1models = l1models\n",
    "        self.l2model = l2model\n",
    "        \n",
    "    def tunel1(self, data, labels, param_grids):\n",
    "        self.y_train = labels\n",
    "        \n",
    "        self.tunedModels = []\n",
    "        for i in range(len(self.l1models)):\n",
    "            self.tunedModels.append(validator(self.l1models[i](), param_grids[i], data, labels))    \n",
    "            print('Trained model' + str(i))\n",
    "        \n",
    "        self.l1score = [model.best_score_ for model in self.tunedModels]\n",
    "        \n",
    "        ed = [model.predict(data) for model in self.tunedModels]\n",
    "        self.l1TOutput = np.array(ed).transpose()\n",
    "        \n",
    "    def definel1(self, data, labels, param_grids):\n",
    "        self.y_train = labels\n",
    "        \n",
    "        self.tunedModels = []\n",
    "        for i in range(len(self.l1models)):\n",
    "            self.tunedModels.append(self.l1models[i](**param_grids[i]))\n",
    "            \n",
    "        for model in self.tunedModels:\n",
    "            model.fit(data, labels)\n",
    "            print('Trained')\n",
    "        \n",
    "        print('Making l1 Predictions')\n",
    "        ed = [model.predict(data) for model in self.tunedModels]\n",
    "        self.l1TOutput = np.array(ed).transpose()\n",
    "        \n",
    "    def predictl1(self, data):\n",
    "        ed = [model.predict(data) for model in self.tunedModels]\n",
    "        self.l1Output = np.array(ed).transpose()\n",
    "        \n",
    "        \n",
    "    def tunel2(self, param_grid):\n",
    "        self.tunedl2 = validator(self.l2model(), param_grid, self.l1TOutput, self.y_train)\n",
    "        self.l2score = self.tunedl2.best_score_\n",
    "        self.tunedl2.fit(self.l1TOutput, self.y_train)\n",
    "        \n",
    "    def definel2(self, param_grid):\n",
    "        self.tunedl2 = self.l2model(**param_grid)\n",
    "        self.tunedl2.fit(self.l1TOutput, self.y_train)\n",
    "        \n",
    "    def predictl2(self):\n",
    "        self.l2Output = self.tunedl2.predict(self.l1Output)\n",
    "        \n",
    "    def fit(self, X_train, Y_train, param_gridsl1, param_gridsl2, tune = True):\n",
    "        if tune:\n",
    "            self.tunel1(X_train, Y_train, param_gridsl1)\n",
    "            self.tunel2(param_gridsl2)\n",
    "        else:\n",
    "            self.definel1(X_train,Y_train, param_gridsl1)\n",
    "            self.definel2(param_gridsl2)\n",
    "\n",
    "    def predict(self, X_test):\n",
    "        self.predictl1(X_test)\n",
    "        self.predictl2()\n",
    "        \n",
    "    def evaluatel2(self, Y_test):\n",
    "        return metrics.mean_squared_error(self.l2Output, Y_test)\n",
    "        \n",
    "    def evaluatel1(self, Y_test):\n",
    "        return np.apply_along_axis(metrics.mean_squared_error, 0, self.l1Output, Y_test)"
   ]
  },
  {
   "cell_type": "markdown",
   "metadata": {},
   "source": [
    "Now we prepare the data for analysis by removing the appropriate columns, replacing missing data and defining the variables and labels."
   ]
  },
  {
   "cell_type": "code",
   "execution_count": 10,
   "metadata": {},
   "outputs": [],
   "source": [
    "df = pickle.load(open('dataarray.p','rb'))\n",
    "X = df.drop(['rainfall','datestamp','SID'], axis = 1)\n",
    "X = X.apply(stripNA, axis = 0, cts=True).values\n",
    "\n",
    "Y = df.sum(axis=1).values\n",
    "Y = df['rainfall'].values\n",
    "\n",
    "X_train, X_test, y_train, y_test = train_test_split(X, Y, test_size=0.10, random_state=1)"
   ]
  },
  {
   "cell_type": "markdown",
   "metadata": {},
   "source": [
    "### 3.3 Fine tuning hyperparameters\n",
    "\n",
    "The next step is fine tuning the hyperparameters of each individual model. In the next cell, the search parameters are defined. Due to constraints on time and computing power, the search grid has been limited."
   ]
  },
  {
   "cell_type": "code",
   "execution_count": null,
   "metadata": {},
   "outputs": [],
   "source": [
    "tree_grid = {\n",
    "        'max_features': [5, X.shape[1]],\n",
    "        'n_estimators': [10, 100, 10],\n",
    "        'max_leaf_nodes': [2,100,5]\n",
    "}\n",
    "\n",
    "knn_grid = {\n",
    "        'n_neighbors': [5, X.shape[0], 1000],\n",
    "}\n",
    "\n",
    "lgb_grid = {\n",
    "    'learning_rate': [0.01, 0.1, 1],\n",
    "    'n_estimators': [20, 40]\n",
    "}\n",
    "\n",
    "lasso_grid = {\n",
    "        'alpha': [0,1,0.1],\n",
    "}\n",
    "param_grids = [tree_grid, tree_grid, knn_grid, lgb_grid]\n"
   ]
  },
  {
   "cell_type": "code",
   "execution_count": null,
   "metadata": {},
   "outputs": [],
   "source": [
    "#NOTE: Fine tuning was conducted outside of this notebook, parameters were saved and will be used to define models later\n",
    "ET = EnsembleTrainer([RandomForestRegressor, ExtraTreesRegressor, KNeighborsRegressor, lgb.LGBMRegressor], Lasso)\n",
    "ET.fit(X_train, y_train, param_grids, lasso_grid, tune=True)\n",
    "ET.predict(X_test)\n",
    "ET.evaluatel1(y_test)\n",
    "ET.evaluatel2(y_test)"
   ]
  },
  {
   "cell_type": "markdown",
   "metadata": {},
   "source": [
    "### 3.4 Fitting\n",
    "When .fit is called with tune=True, each model is cross-validated using the specified search grid. As fine-tuning requires a long time and was conducted outside of this notebook, the fine-tuned hyperparameters are called below instead, with tune set to False."
   ]
  },
  {
   "cell_type": "code",
   "execution_count": 11,
   "metadata": {},
   "outputs": [],
   "source": [
    "tree_grid = {\n",
    "        'max_features': 5,\n",
    "        'n_estimators': 100,\n",
    "        'max_leaf_nodes': 100\n",
    "}\n",
    "\n",
    "knn_grid = {\n",
    "        'n_neighbors': 3000,\n",
    "}\n",
    "\n",
    "lgb_grid = {\n",
    "    'learning_rate': 0.4,\n",
    "    'n_estimators': 35\n",
    "}\n",
    "\n",
    "lasso_grid = {\n",
    "        'alpha': 0.4\n",
    "}\n",
    "param_grids = [tree_grid, tree_grid, knn_grid, lgb_grid] "
   ]
  },
  {
   "cell_type": "code",
   "execution_count": 12,
   "metadata": {},
   "outputs": [
    {
     "name": "stdout",
     "output_type": "stream",
     "text": [
      "Trained\n",
      "Trained\n",
      "Trained\n",
      "Trained\n",
      "Making l1 Predictions\n"
     ]
    }
   ],
   "source": [
    "ET = EnsembleTrainer([RandomForestRegressor, ExtraTreesRegressor, KNeighborsRegressor, lgb.LGBMRegressor], Lasso)\n",
    "ET.fit(X_train, y_train, param_grids, lasso_grid, tune=False)\n",
    "ET.predict(X_test)"
   ]
  },
  {
   "cell_type": "markdown",
   "metadata": {},
   "source": [
    "With the cell above, the model is trained and predictions are generated on the test set. The expected out-of-sample performance is shown below."
   ]
  },
  {
   "cell_type": "markdown",
   "metadata": {},
   "source": [
    "### 3.4 Results"
   ]
  },
  {
   "cell_type": "code",
   "execution_count": 13,
   "metadata": {},
   "outputs": [
    {
     "name": "stdout",
     "output_type": "stream",
     "text": [
      "[ 1.98571413  2.20532499  2.67303504  1.88066098]\n",
      "1.88684393834\n"
     ]
    }
   ],
   "source": [
    "print(ET.evaluatel1(y_test))\n",
    "print(ET.evaluatel2(y_test))"
   ]
  },
  {
   "cell_type": "markdown",
   "metadata": {},
   "source": [
    "The evaluation metric used in Mean Squared Error. The errors show that the overall stacked model has a lower performance compared to the Gradient Boosted Trees trained using LightGBM. However, this was cross-validated using only 3 folds and with a very rough search grid. For further investigation, the search grid should be expanded and made finer and trained with more folds."
   ]
  },
  {
   "cell_type": "code",
   "execution_count": 17,
   "metadata": {},
   "outputs": [
    {
     "data": {
      "text/plain": [
       "array([ 0.04343763,  0.07455331,  0.08984894, ...,  0.28979755,\n",
       "        0.06947936,  0.03583022])"
      ]
     },
     "execution_count": 17,
     "metadata": {},
     "output_type": "execute_result"
    }
   ],
   "source": [
    "ET.l2Output"
   ]
  },
  {
   "cell_type": "markdown",
   "metadata": {},
   "source": [
    "While performance in this model is decent, the results could be improved given more time. Collecting historical data through the data.gov.sg API requires a lot of time; collecting 9 months worth of rainfall data took roughly 8 hours, the other variables took roughly 2 hours.\n",
    "\n",
    "Furthermore, cross-validation required a lot of time as well, limiting the feasible search grid. With more time, the parameters could be further fine tuned and other parameters adjusted as well. \n",
    "\n",
    "As we see from the output, rain (albeit a small amount) is predicted at almost every time interval. An alternative to using regression techniques would be to use classification techniques to determine the presence of rain (rainfall > 0.0mm) instead. However, this would deny the user information on the amount of rain."
   ]
  },
  {
   "cell_type": "markdown",
   "metadata": {},
   "source": [
    "## 4. Feature Importances"
   ]
  },
  {
   "cell_type": "code",
   "execution_count": 18,
   "metadata": {},
   "outputs": [],
   "source": [
    "#%%\n",
    "cols = df.drop(['rainfall','datestamp','SID'], axis = 1).columns\n",
    "features = [sorted(zip(cols, i.feature_importances_), key = lambda x: x[1], reverse=False) for i in ET.tunedModels[0:2]]\n",
    "impt = [[feature [1] for feature in l] for l in features]\n",
    "col = [[feature [0] for feature in l] for l in features]"
   ]
  },
  {
   "cell_type": "markdown",
   "metadata": {},
   "source": [
    "### Random Forest"
   ]
  },
  {
   "cell_type": "code",
   "execution_count": 19,
   "metadata": {},
   "outputs": [
    {
     "data": {
      "text/plain": [
       "<matplotlib.axes._subplots.AxesSubplot at 0x25900340d30>"
      ]
     },
     "execution_count": 19,
     "metadata": {},
     "output_type": "execute_result"
    },
    {
     "data": {
      "image/png": "[encoded data removed]",
      "text/plain": [
       "<matplotlib.figure.Figure at 0x2590029b1d0>"
      ]
     },
     "metadata": {},
     "output_type": "display_data"
    }
   ],
   "source": [
    "plt.subplots(figsize=(12, 8))\n",
    "sns.barplot(x=impt[0], y=col[0], orient = 'h')"
   ]
  },
  {
   "cell_type": "markdown",
   "metadata": {},
   "source": [
    "### Extra Trees"
   ]
  },
  {
   "cell_type": "code",
   "execution_count": 20,
   "metadata": {},
   "outputs": [
    {
     "data": {
      "text/plain": [
       "<matplotlib.axes._subplots.AxesSubplot at 0x2590090ca90>"
      ]
     },
     "execution_count": 20,
     "metadata": {},
     "output_type": "execute_result"
    },
    {
     "data": {
      "image/png": "[encoded data removed]",
      "text/plain": [
       "<matplotlib.figure.Figure at 0x25900927e48>"
      ]
     },
     "metadata": {},
     "output_type": "display_data"
    }
   ],
   "source": [
    "plt.subplots(figsize=(12, 8))\n",
    "sns.barplot(x=impt[1], y=col[1], orient = 'h')"
   ]
  },
  {
   "cell_type": "markdown",
   "metadata": {},
   "source": [
    "### Gradient Boosted Trees"
   ]
  },
  {
   "cell_type": "code",
   "execution_count": 21,
   "metadata": {},
   "outputs": [
    {
     "data": {
      "text/plain": [
       "<matplotlib.axes._subplots.AxesSubplot at 0x25900a0f320>"
      ]
     },
     "execution_count": 21,
     "metadata": {},
     "output_type": "execute_result"
    },
    {
     "data": {
      "image/png": "[encoded data removed]",
      "text/plain": [
       "<matplotlib.figure.Figure at 0x25900a146d8>"
      ]
     },
     "metadata": {},
     "output_type": "display_data"
    }
   ],
   "source": [
    "features = sorted(zip(cols, ET.tunedModels[3].feature_importances_), key = lambda x: x[1], reverse=False)\n",
    "impt = [feature [1] for feature in features]\n",
    "col = [feature [0] for feature in features]\n",
    "\n",
    "plt.subplots(figsize=(12, 8))\n",
    "sns.barplot(x=impt, y=col, orient = 'h')"
   ]
  },
  {
   "cell_type": "markdown",
   "metadata": {},
   "source": [
    "From the plots, the variables of high importance are as expected, variables such as windspeed, air temperature and humidity rank high in all three plots. If we examine the other variables, we see that the PSI values have very little importance when it comes to predicting rain."
   ]
  },
  {
   "cell_type": "markdown",
   "metadata": {},
   "source": [
    "## 5. Forecasting"
   ]
  },
  {
   "cell_type": "markdown",
   "metadata": {},
   "source": [
    "To generate the final model, the regressor is trained on all the available data."
   ]
  },
  {
   "cell_type": "code",
   "execution_count": 23,
   "metadata": {},
   "outputs": [
    {
     "name": "stdout",
     "output_type": "stream",
     "text": [
      "Trained\n",
      "Trained\n",
      "Trained\n",
      "Trained\n",
      "Making l1 Predictions\n"
     ]
    }
   ],
   "source": [
    "ET.fit(X, Y, param_grids, lasso_grid, tune=False)"
   ]
  },
  {
   "cell_type": "markdown",
   "metadata": {},
   "source": [
    "With the fitted model, we can now call forecasts using current climate conditions."
   ]
  },
  {
   "cell_type": "code",
   "execution_count": 34,
   "metadata": {},
   "outputs": [],
   "source": [
    "def rainforecast(api_key, trainer, station=None):\n",
    "    resourcelist = ['https://api.data.gov.sg/v1/environment/wind-speed',\n",
    "               'https://api.data.gov.sg/v1/environment/air-temperature',\n",
    "               'https://api.data.gov.sg/v1/environment/pm25',\n",
    "               'https://api.data.gov.sg/v1/environment/psi',\n",
    "               'https://api.data.gov.sg/v1/environment/rainfall',\n",
    "               'https://api.data.gov.sg/v1/environment/relative-humidity',\n",
    "               'https://api.data.gov.sg/v1/environment/wind-direction'\n",
    "               ]\n",
    "    print('Collecting Data...')\n",
    "    data = toDataFrame(calldata(None, api_key, resourcelist))\n",
    "    stations = data.index\n",
    "    print('Available stations are:')\n",
    "    print(stations)\n",
    "    data.drop(['rainfall','datestamp'], axis = 1, inplace=True)\n",
    "    data['psi_three_hourly'] = 0\n",
    "#    X = df.drop(['rainfall','datestamp','SID'], axis = 1)    \n",
    "    if station:\n",
    "        dataX = data.apply(stripNA, axis = 0, cts=True).loc[station].values\n",
    "    else:\n",
    "        dataX = data.apply(stripNA, axis = 0, cts=True).values\n",
    "    print('Predicting')\n",
    "    trainer.predict(dataX)        \n",
    "    l1predictions = trainer.l1Output\n",
    "    l2predictions = trainer.l2Output\n",
    "    print('Done')\n",
    "    return(l1predictions, l2predictions)"
   ]
  },
  {
   "cell_type": "code",
   "execution_count": 35,
   "metadata": {},
   "outputs": [
    {
     "name": "stdout",
     "output_type": "stream",
     "text": [
      "Collecting Data...\n",
      "2017-09-18 00:10:00+08:00\n",
      "Available stations are:\n",
      "Index(['S107'], dtype='object')\n",
      "Predicting\n",
      "Done\n"
     ]
    },
    {
     "data": {
      "text/plain": [
       "(array([[ 2.52357153,  0.74412984,  0.1019    ,  1.52925376]]),\n",
       " array([ 1.18723439]))"
      ]
     },
     "execution_count": 35,
     "metadata": {},
     "output_type": "execute_result"
    }
   ],
   "source": [
    "rainforecast(api_key,ET)"
   ]
  },
  {
   "cell_type": "code",
   "execution_count": null,
   "metadata": {},
   "outputs": [],
   "source": []
  }
 ],
 "metadata": {
  "kernelspec": {
   "display_name": "Python 3",
   "language": "python",
   "name": "python3"
  },
  "language_info": {
   "codemirror_mode": {
    "name": "ipython",
    "version": 3
   },
   "file_extension": ".py",
   "mimetype": "text/x-python",
   "name": "python",
   "nbconvert_exporter": "python",
   "pygments_lexer": "ipython3",
   "version": "3.5.4"
  }
 },
 "nbformat": 4,
 "nbformat_minor": 2
}
